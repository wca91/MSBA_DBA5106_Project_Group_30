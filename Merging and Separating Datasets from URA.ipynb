{
 "cells": [
  {
   "cell_type": "markdown",
   "id": "fea3c1da",
   "metadata": {},
   "source": [
    "# Merging Data from URA"
   ]
  },
  {
   "cell_type": "code",
   "execution_count": 2,
   "id": "97ffc754",
   "metadata": {},
   "outputs": [],
   "source": [
    "import pandas as pd\n",
    "import os"
   ]
  },
  {
   "cell_type": "code",
   "execution_count": 3,
   "id": "1ce36d3f",
   "metadata": {},
   "outputs": [],
   "source": [
    "#Folder for merging\n",
    "arr = os.listdir('I:\\OneDrive - National University of Singapore\\DBA5106 Foundation in BA\\Quiz\\Test\\Resale')\n",
    "df_1 = None\n",
    "for x in arr:\n",
    "    df = pd.read_csv('I:\\OneDrive - National University of Singapore\\DBA5106 Foundation in BA\\Quiz\\Test\\Resale/{0}'.format(x),\n",
    "                    header = 1 ,\n",
    "                    index_col = 'S/N')\n",
    "    df = df.dropna()\n",
    "    df_1 = pd.concat([df_1,df])\n"
   ]
  },
  {
   "cell_type": "markdown",
   "id": "be461952",
   "metadata": {},
   "source": [
    "# Separating Dataset into Private and Landed Housing"
   ]
  },
  {
   "cell_type": "code",
   "execution_count": 8,
   "id": "031d7eb1",
   "metadata": {},
   "outputs": [],
   "source": [
    "private = df_1.loc[(df_1['Type'].str.contains('Apartment|Condominium|Executive Condominium'))].reset_index()\n",
    "landed  = df_1[~df_1.isin(private)].dropna(how = 'all')\n",
    "private.to_csv('Private Housing .csv')\n",
    "landed.to_csv('Landed Housing .csv')                "
   ]
  }
 ],
 "metadata": {
  "kernelspec": {
   "display_name": "Python 3 (ipykernel)",
   "language": "python",
   "name": "python3"
  },
  "language_info": {
   "codemirror_mode": {
    "name": "ipython",
    "version": 3
   },
   "file_extension": ".py",
   "mimetype": "text/x-python",
   "name": "python",
   "nbconvert_exporter": "python",
   "pygments_lexer": "ipython3",
   "version": "3.9.6"
  }
 },
 "nbformat": 4,
 "nbformat_minor": 5
}
