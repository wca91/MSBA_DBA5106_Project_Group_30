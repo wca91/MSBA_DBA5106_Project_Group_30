{
 "cells": [
  {
   "cell_type": "code",
   "execution_count": null,
   "id": "a680c6c5",
   "metadata": {},
   "outputs": [],
   "source": [
    "import json\n",
    "import requests\n",
    "import pandas as pd\n",
    "from geopy.distance import geodesic"
   ]
  },
  {
   "cell_type": "code",
   "execution_count": null,
   "id": "f64e354b",
   "metadata": {},
   "outputs": [],
   "source": [
    "def find_postal(lst, filename):\n",
    "    \n",
    "    for index,add in enumerate(lst):\n",
    "        url= \"https://developers.onemap.sg/commonapi/search?returnGeom=Y&getAddrDetails=Y&pageNum=1&searchVal=\"+add\n",
    "        #print(index,url)\n",
    "        response = requests.get(url)\n",
    "        data = json.loads(response.text) \n",
    "    \n",
    "        temp_df = pd.DataFrame.from_dict(data[\"results\"])\n",
    "        temp_df[\"address\"] = add\n",
    "    \n",
    "        if index == 0:\n",
    "            file = temp_df\n",
    "        else:\n",
    "            file = file.append(temp_df)\n",
    "    file.to_csv(filename + '.csv')"
   ]
  },
  {
   "cell_type": "code",
   "execution_count": null,
   "id": "36c51515",
   "metadata": {},
   "outputs": [],
   "source": [
    "cc = pd.read_csv('.\\Amenities\\CC.csv')\n",
    "supermarket = pd.read_csv('.\\Amenities\\supermarket_cleaned.csv')\n",
    "hawker = pd.read_csv('.\\Amenities\\list-of-government-markets-hawker-centres.csv')\n",
    "mrt = pd.read_csv('.\\Amenities\\mrtsg.csv')\n",
    "npc = pd.read_csv('.\\Amenities\\PoliceCentre.csv')\n"
   ]
  },
  {
   "cell_type": "code",
   "execution_count": null,
   "id": "a5d22d37",
   "metadata": {},
   "outputs": [],
   "source": [
    "unique_address_cc = cc['CC'].unique()\n",
    "unique_address_supermarket = supermarket['address'].unique()\n",
    "unique_address_hawker = hawker['name_of_centre'].unique()\n",
    "unique_address_mrt = mrt['STN_NAME'].unique()\n",
    "unique_address_npc = npc['NPC'].unique()\n"
   ]
  },
  {
   "cell_type": "code",
   "execution_count": null,
   "id": "b65eecd3",
   "metadata": {},
   "outputs": [],
   "source": [
    "find_postal(unique_address_supermarket, \"supermarket_geoloc\")\n",
    "find_postal(unique_address_hawker, \"hawker_geoloc\")\n",
    "find_postal(unique_address_mrt , \"mrt_geoloc\")\n",
    "find_postal(unique_address_cc, \"cc_geoloc\")\n",
    "find_postal(unique_address_supermarket, \"npc_geoloc\")"
   ]
  }
 ],
 "metadata": {
  "kernelspec": {
   "display_name": "Python 3 (ipykernel)",
   "language": "python",
   "name": "python3"
  },
  "language_info": {
   "codemirror_mode": {
    "name": "ipython",
    "version": 3
   },
   "file_extension": ".py",
   "mimetype": "text/x-python",
   "name": "python",
   "nbconvert_exporter": "python",
   "pygments_lexer": "ipython3",
   "version": "3.9.6"
  }
 },
 "nbformat": 4,
 "nbformat_minor": 5
}
